{
 "cells": [
  {
   "cell_type": "code",
   "execution_count": 46,
   "metadata": {},
   "outputs": [],
   "source": [
    "import librosa\n",
    "import numpy as np\n",
    "import os"
   ]
  },
  {
   "cell_type": "code",
   "execution_count": 47,
   "metadata": {},
   "outputs": [],
   "source": [
    "# ฟังก์ชันสกัดคุณลักษณะจากไฟล์เสียง\n",
    "def extract_features(file_name, sr=44100, duration=30):\n",
    "    y, sr = librosa.load(file_name, sr=sr)  # โหลดไฟล์เสียง\n",
    "    num_segments = len(y) // (sr * duration)  # คำนวณจำนวน segment ในไฟล์เสียง\n",
    "    features_list = []\n",
    "    \n",
    "    # สกัดคุณลักษณะจากแต่ละ segment\n",
    "    for i in range(num_segments):\n",
    "        start = i * sr * duration\n",
    "        end = start + sr * duration\n",
    "        y_segment = y[start:end]\n",
    "        \n",
    "        features = {}\n",
    "        features['mfcc'] = np.mean(librosa.feature.mfcc(y=y_segment, sr=sr, n_mfcc=13).T, axis=0).tolist()\n",
    "        features['spectral_centroid'] = np.mean(librosa.feature.spectral_centroid(y=y_segment, sr=sr).T, axis=0).tolist()\n",
    "        features['zero_crossing_rate'] = np.mean(librosa.feature.zero_crossing_rate(y_segment).T, axis=0).tolist()\n",
    "        features['spectral_bandwidth'] = np.mean(librosa.feature.spectral_bandwidth(y=y_segment, sr=sr).T, axis=0).tolist()\n",
    "        features['chroma_stft'] = np.mean(librosa.feature.chroma_stft(y=y_segment, sr=sr).T, axis=0).tolist()\n",
    "        mel_spectrogram = librosa.feature.melspectrogram(y=y_segment, sr=sr)\n",
    "        features['mel_spectrogram'] = np.mean(librosa.power_to_db(mel_spectrogram).T, axis=0).tolist()\n",
    "        \n",
    "        features_list.append(features)\n",
    "    \n",
    "    return features_list"
   ]
  },
  {
   "cell_type": "code",
   "execution_count": 48,
   "metadata": {},
   "outputs": [],
   "source": [
    "from tensorflow.keras.models import load_model\n",
    "import pickle\n",
    "\n",
    "# โหลดโมเดล\n",
    "model = load_model('../you_path/Music_6_Genre_Full_Song_CNN_Model.h5')\n",
    "\n",
    "# โหลด Label Encoder\n",
    "with open('../you_path/Label_Encoder_6_Genre_Full_Song.pkl', 'rb') as file:\n",
    "    label_encoder = pickle.load(file)\n",
    "\n",
    "# โหลด Scaler\n",
    "with open('../you_path/Scaler_6_Genre_Full_Song.pkl', 'rb') as file:\n",
    "    scaler = pickle.load(file)"
   ]
  },
  {
   "cell_type": "code",
   "execution_count": 49,
   "metadata": {},
   "outputs": [],
   "source": [
    "# ฟังก์ชันเตรียมคุณลักษณะสำหรับการพยากรณ์\n",
    "def prepare_features(features_list):\n",
    "    X = []\n",
    "    for features in features_list:\n",
    "        feature_array = []\n",
    "        for feature in features.values():\n",
    "            feature_array.extend(feature)\n",
    "        X.append(feature_array)\n",
    "    \n",
    "    X = np.array(X)  # แปลงเป็น numpy array\n",
    "    X = scaler.transform(X)  # ทำการ Normalize ข้อมูล\n",
    "    X = X.reshape(X.shape[0], X.shape[1], 1)  # ปรับ reshape ข้อมูลเพื่อให้ตรงกับรูปแบบของโมเดล\n",
    "    return X"
   ]
  },
  {
   "cell_type": "code",
   "execution_count": 50,
   "metadata": {},
   "outputs": [
    {
     "name": "stdout",
     "output_type": "stream",
     "text": [
      "1/1 [==============================] - 0s 67ms/step\n",
      "Segment 1: Jazz\n",
      "Probabilities: {'Jazz': '100.00%', 'HipHop': '0.00%', 'Metal': '0.00%', 'Classical': '0.00%', 'Rock': '0.00%', 'Country': '0.00%'}\n",
      "\n",
      "Segment 2: Metal\n",
      "Probabilities: {'Metal': '83.43%', 'Rock': '16.57%', 'Classical': '0.00%', 'Jazz': '0.00%', 'HipHop': '0.00%', 'Country': '0.00%'}\n",
      "\n",
      "Segment 3: Rock\n",
      "Probabilities: {'Rock': '100.00%', 'Metal': '0.00%', 'Jazz': '0.00%', 'HipHop': '0.00%', 'Classical': '0.00%', 'Country': '0.00%'}\n",
      "\n",
      "Segment 4: Rock\n",
      "Probabilities: {'Rock': '100.00%', 'Metal': '0.00%', 'Jazz': '0.00%', 'Classical': '0.00%', 'HipHop': '0.00%', 'Country': '0.00%'}\n",
      "\n",
      "Segment 5: Rock\n",
      "Probabilities: {'Rock': '100.00%', 'Metal': '0.00%', 'Jazz': '0.00%', 'Classical': '0.00%', 'HipHop': '0.00%', 'Country': '0.00%'}\n",
      "\n",
      "Segment 6: Metal\n",
      "Probabilities: {'Metal': '100.00%', 'Rock': '0.00%', 'Jazz': '0.00%', 'Classical': '0.00%', 'HipHop': '0.00%', 'Country': '0.00%'}\n",
      "\n",
      "Segment 7: Rock\n",
      "Probabilities: {'Rock': '100.00%', 'Metal': '0.00%', 'Jazz': '0.00%', 'Classical': '0.00%', 'HipHop': '0.00%', 'Country': '0.00%'}\n",
      "\n",
      "Segment 8: Rock\n",
      "Probabilities: {'Rock': '99.93%', 'Metal': '0.07%', 'Jazz': '0.00%', 'Classical': '0.00%', 'HipHop': '0.00%', 'Country': '0.00%'}\n",
      "\n"
     ]
    }
   ],
   "source": [
    "# ฟังก์ชันพยากรณ์แนวเพลงจากไฟล์เสียง\n",
    "def predict_genre(file_name):\n",
    "    features_list = extract_features(file_name)  # สกัดคุณลักษณะจากไฟล์เสียง\n",
    "    X = prepare_features(features_list)  # เตรียมคุณลักษณะสำหรับการพยากรณ์\n",
    "    predictions = model.predict(X)  # พยากรณ์แนวเพลง\n",
    "    predicted_classes = np.argmax(predictions, axis=1)  # หาคลาสที่มีความน่าจะเป็นสูงสุด\n",
    "    predicted_genres = label_encoder.inverse_transform(predicted_classes)  # แปลงค่าที่พยากรณ์กลับเป็นชื่อแนวเพลง\n",
    "    \n",
    "    for i, (pred, pred_class) in enumerate(zip(predictions, predicted_classes)): #zip เป็นฟังก์ชันที่นำข้อมูลจากสองชุดมาจับคู่กันเป็นคู่ๆ\n",
    "        genre_probabilities = {label_encoder.classes_[j]: prob for j, prob in enumerate(pred)}\n",
    "        genre_probabilities = dict(sorted(genre_probabilities.items(), key=lambda item: item[1], reverse=True))\n",
    "        \n",
    "        # แปลงค่าความคล้ายคลึงเป็นเปอร์เซ็นต์\n",
    "        genre_percentages = {genre: f\"{prob*100:.2f}%\" for genre, prob in genre_probabilities.items()}\n",
    "        \n",
    "        print(f\"Segment {i+1}: {predicted_genres[i]}\")\n",
    "        print(f\"Probabilities: {genre_percentages}\")\n",
    "        \n",
    "        if max(pred) < 0.5:  # ถ้าเปอร์เซ็นต์ความคล้ายคลึงสูงสุดน้อยกว่า 50%\n",
    "            print(\"เป็นเพลงประเภทอื่นๆ\")\n",
    "        print(\"\")\n",
    "\n",
    "# ทำนาย\n",
    "file_name = './you_path'\n",
    "predict_genre(file_name)"
   ]
  }
 ],
 "metadata": {
  "kernelspec": {
   "display_name": "Project",
   "language": "python",
   "name": "python3"
  },
  "language_info": {
   "codemirror_mode": {
    "name": "ipython",
    "version": 3
   },
   "file_extension": ".py",
   "mimetype": "text/x-python",
   "name": "python",
   "nbconvert_exporter": "python",
   "pygments_lexer": "ipython3",
   "version": "3.9.19"
  }
 },
 "nbformat": 4,
 "nbformat_minor": 2
}
