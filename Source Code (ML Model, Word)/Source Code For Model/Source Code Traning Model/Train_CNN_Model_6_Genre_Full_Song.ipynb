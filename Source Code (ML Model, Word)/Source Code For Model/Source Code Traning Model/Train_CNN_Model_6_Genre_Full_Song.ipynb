{
 "cells": [
  {
   "cell_type": "markdown",
   "metadata": {},
   "source": [
    "# Load json & เตรียมข้อมูล"
   ]
  },
  {
   "cell_type": "code",
   "execution_count": 1,
   "metadata": {},
   "outputs": [],
   "source": [
    "import json\n",
    "import numpy as np\n",
    "from sklearn.model_selection import train_test_split\n",
    "from sklearn.preprocessing import StandardScaler\n",
    "\n",
    "# โหลดข้อมูลจากไฟล์ JSON\n",
    "with open('../you_path/Features_6_Genre.json', 'r') as fp:\n",
    "    data = json.load(fp)\n",
    "\n",
    "# เตรียมข้อมูลและ labels\n",
    "X = []\n",
    "y = []\n",
    "for genre, features_list in data.items():\n",
    "    for features in features_list:\n",
    "        # แปลง dictionary ของคุณสมบัติเป็น array\n",
    "        feature_array = []\n",
    "        for feature in features.values():\n",
    "            feature_array.extend(feature)\n",
    "        X.append(feature_array)\n",
    "        y.append(genre)\n",
    "\n",
    "# แปลงข้อมูลเป็น numpy array\n",
    "X = np.array(X)\n",
    "y = np.array(y)\n",
    "\n",
    "# แบ่งข้อมูลเป็นชุดฝึกและชุดทดสอบ (70-30)\n",
    "X_train, X_test, y_train, y_test = train_test_split(X, y, test_size=0.3, random_state=42)\n",
    "\n",
    "# การทำ normalization/standardization กับข้อมูล\n",
    "scaler = StandardScaler()\n",
    "X_train = scaler.fit_transform(X_train)\n",
    "X_test = scaler.transform(X_test)\n",
    "\n",
    "# reshape ข้อมูลสำหรับ CNN\n",
    "X_train = X_train.reshape(X_train.shape[0], X_train.shape[1], 1)\n",
    "X_test = X_test.reshape(X_test.shape[0], X_test.shape[1], 1)"
   ]
  },
  {
   "cell_type": "markdown",
   "metadata": {},
   "source": [
    "# Training Model"
   ]
  },
  {
   "cell_type": "code",
   "execution_count": 2,
   "metadata": {},
   "outputs": [],
   "source": [
    "import tensorflow as tf\n",
    "from tensorflow.keras.models import Sequential\n",
    "from tensorflow.keras.layers import Conv1D, MaxPooling1D, Flatten, Dense, Dropout\n",
    "from tensorflow.keras.utils import to_categorical\n",
    "from sklearn.preprocessing import LabelEncoder\n",
    "from tensorflow.keras.layers import BatchNormalization\n",
    "\n",
    "# การเข้ารหัส labels (one-hot encoding)\n",
    "label_encoder = LabelEncoder()\n",
    "# แปลงป้ายกำกับสำหรับชุดฝึกให้เป็นค่าตัวเลขและทำ one-hot encoding\n",
    "y_train_encoded = to_categorical(label_encoder.fit_transform(y_train))\n",
    "# แปลงป้ายกำกับสำหรับชุดทดสอบให้เป็นค่าตัวเลขและทำ one-hot encoding\n",
    "y_test_encoded = to_categorical(label_encoder.transform(y_test))\n",
    "\n",
    "# กำหนดสถาปัตยกรรมของโมเดล CNN\n",
    "# ปรับโมเดลใหม่\n",
    "model = Sequential([\n",
    "    # ชั้น Conv1D พร้อมฟิลเตอร์ 32 ขนาด 3 และ activation 'relu'\n",
    "        Conv1D(32, 3, activation='relu', input_shape=(X_train.shape[1], 1)),\n",
    "        # Normalization ชั้น Conv1D\n",
    "        BatchNormalization(),\n",
    "        # ชั้น MaxPooling1D ขนาด 2\n",
    "        MaxPooling1D(2),\n",
    "        # ชั้น Conv1D พร้อมฟิลเตอร์ 64 ขนาด 3 และ activation 'relu'\n",
    "        Conv1D(64, 3, activation='relu'),\n",
    "        # Normalization ชั้น Conv1D\n",
    "        BatchNormalization(),\n",
    "        # ชั้น MaxPooling1D ขนาด 2\n",
    "        MaxPooling1D(2),\n",
    "        # ชั้น Conv1D พร้อมฟิลเตอร์ 128 ขนาด 3 และ activation 'relu'\n",
    "        Conv1D(128, 3, activation='relu'),  # เพิ่มจำนวนชั้นซ่อน\n",
    "        # Normalization ชั้น Conv1D\n",
    "        BatchNormalization(),\n",
    "        # ชั้น MaxPooling1D ขนาด 2\n",
    "        MaxPooling1D(2),\n",
    "        # Flatten ชั้นเพื่อแปลงข้อมูลให้เป็นเวกเตอร์\n",
    "        Flatten(),\n",
    "        # ชั้น Dense พร้อม 256 หน่วยและ activation 'relu'\n",
    "        Dense(256, activation='relu'),  # เพิ่มจำนวนหน่วยในชั้นซ่อน\n",
    "        # Dropout ชั้นเพื่อป้องกัน overfitting\n",
    "        Dropout(0.5),\n",
    "        # ชั้น Dense สำหรับการทำนาย พร้อม activation 'softmax'\n",
    "        Dense(len(label_encoder.classes_), activation='softmax')\n",
    "])\n",
    "\n",
    "# คอมไพล์โมเดลพร้อม optimizer, loss function, และ metrics\n",
    "model.compile(optimizer=tf.keras.optimizers.Adam(learning_rate=0.001), loss='categorical_crossentropy', metrics=['accuracy'])"
   ]
  },
  {
   "cell_type": "code",
   "execution_count": 3,
   "metadata": {},
   "outputs": [
    {
     "name": "stdout",
     "output_type": "stream",
     "text": [
      "Epoch 1/50\n",
      "73/73 [==============================] - 1s 10ms/step - loss: 1.0420 - accuracy: 0.6958 - val_loss: 1.7746 - val_accuracy: 0.2012\n",
      "Epoch 2/50\n",
      "73/73 [==============================] - 1s 10ms/step - loss: 0.4756 - accuracy: 0.8340 - val_loss: 2.8957 - val_accuracy: 0.1672\n",
      "Epoch 3/50\n",
      "73/73 [==============================] - 1s 10ms/step - loss: 0.3011 - accuracy: 0.8962 - val_loss: 3.1597 - val_accuracy: 0.1692\n",
      "Epoch 4/50\n",
      "73/73 [==============================] - 1s 10ms/step - loss: 0.2252 - accuracy: 0.9189 - val_loss: 1.8969 - val_accuracy: 0.5095\n",
      "Epoch 5/50\n",
      "73/73 [==============================] - 1s 10ms/step - loss: 0.1680 - accuracy: 0.9399 - val_loss: 0.7627 - val_accuracy: 0.7057\n",
      "Epoch 6/50\n",
      "73/73 [==============================] - 1s 9ms/step - loss: 0.1563 - accuracy: 0.9451 - val_loss: 0.4754 - val_accuracy: 0.8208\n",
      "Epoch 7/50\n",
      "73/73 [==============================] - 1s 9ms/step - loss: 0.1121 - accuracy: 0.9597 - val_loss: 0.3336 - val_accuracy: 0.8769\n",
      "Epoch 8/50\n",
      "73/73 [==============================] - 1s 9ms/step - loss: 0.0860 - accuracy: 0.9678 - val_loss: 0.2199 - val_accuracy: 0.9359\n",
      "Epoch 9/50\n",
      "73/73 [==============================] - 1s 9ms/step - loss: 0.0914 - accuracy: 0.9670 - val_loss: 0.2043 - val_accuracy: 0.9429\n",
      "Epoch 10/50\n",
      "73/73 [==============================] - 1s 9ms/step - loss: 0.0688 - accuracy: 0.9721 - val_loss: 0.1946 - val_accuracy: 0.9459\n",
      "Epoch 11/50\n",
      "73/73 [==============================] - 1s 9ms/step - loss: 0.0686 - accuracy: 0.9747 - val_loss: 0.1958 - val_accuracy: 0.9429\n",
      "Epoch 12/50\n",
      "73/73 [==============================] - 1s 9ms/step - loss: 0.0737 - accuracy: 0.9773 - val_loss: 0.2398 - val_accuracy: 0.9409\n",
      "Epoch 13/50\n",
      "73/73 [==============================] - 1s 9ms/step - loss: 0.0553 - accuracy: 0.9794 - val_loss: 0.1735 - val_accuracy: 0.9469\n",
      "Epoch 14/50\n",
      "73/73 [==============================] - 1s 10ms/step - loss: 0.0261 - accuracy: 0.9914 - val_loss: 0.2063 - val_accuracy: 0.9520\n",
      "Epoch 15/50\n",
      "73/73 [==============================] - 1s 9ms/step - loss: 0.0248 - accuracy: 0.9936 - val_loss: 0.2181 - val_accuracy: 0.9449\n",
      "Epoch 16/50\n",
      "73/73 [==============================] - 1s 9ms/step - loss: 0.0255 - accuracy: 0.9918 - val_loss: 0.2124 - val_accuracy: 0.9530\n",
      "Epoch 17/50\n",
      "73/73 [==============================] - 1s 9ms/step - loss: 0.0280 - accuracy: 0.9901 - val_loss: 0.2165 - val_accuracy: 0.9479\n",
      "Epoch 18/50\n",
      "73/73 [==============================] - 1s 9ms/step - loss: 0.0399 - accuracy: 0.9850 - val_loss: 0.2136 - val_accuracy: 0.9459\n",
      "Epoch 19/50\n",
      "73/73 [==============================] - 1s 9ms/step - loss: 0.0242 - accuracy: 0.9914 - val_loss: 0.2839 - val_accuracy: 0.9319\n",
      "Epoch 20/50\n",
      "73/73 [==============================] - 1s 9ms/step - loss: 0.0530 - accuracy: 0.9807 - val_loss: 0.2202 - val_accuracy: 0.9469\n",
      "Epoch 21/50\n",
      "73/73 [==============================] - 1s 9ms/step - loss: 0.0636 - accuracy: 0.9777 - val_loss: 0.2252 - val_accuracy: 0.9479\n",
      "Epoch 22/50\n",
      "73/73 [==============================] - 1s 9ms/step - loss: 0.0519 - accuracy: 0.9833 - val_loss: 0.2294 - val_accuracy: 0.9419\n",
      "Epoch 23/50\n",
      "73/73 [==============================] - 1s 9ms/step - loss: 0.0448 - accuracy: 0.9871 - val_loss: 0.2462 - val_accuracy: 0.9429\n",
      "Epoch 24/50\n",
      "73/73 [==============================] - 1s 9ms/step - loss: 0.0589 - accuracy: 0.9816 - val_loss: 0.3433 - val_accuracy: 0.9259\n",
      "Epoch 25/50\n",
      "73/73 [==============================] - 1s 9ms/step - loss: 0.0569 - accuracy: 0.9816 - val_loss: 0.3199 - val_accuracy: 0.9339\n",
      "Epoch 26/50\n",
      "73/73 [==============================] - 1s 9ms/step - loss: 0.0518 - accuracy: 0.9828 - val_loss: 0.3343 - val_accuracy: 0.9349\n",
      "Epoch 27/50\n",
      "73/73 [==============================] - 1s 9ms/step - loss: 0.0520 - accuracy: 0.9828 - val_loss: 0.3016 - val_accuracy: 0.9399\n",
      "Epoch 28/50\n",
      "73/73 [==============================] - 1s 9ms/step - loss: 0.0273 - accuracy: 0.9897 - val_loss: 0.3213 - val_accuracy: 0.9369\n",
      "Epoch 29/50\n",
      "73/73 [==============================] - 1s 9ms/step - loss: 0.0274 - accuracy: 0.9897 - val_loss: 0.2705 - val_accuracy: 0.9429\n",
      "Epoch 30/50\n",
      "73/73 [==============================] - 1s 9ms/step - loss: 0.0226 - accuracy: 0.9936 - val_loss: 0.2601 - val_accuracy: 0.9510\n",
      "Epoch 31/50\n",
      "73/73 [==============================] - 1s 9ms/step - loss: 0.0276 - accuracy: 0.9888 - val_loss: 0.3741 - val_accuracy: 0.9429\n",
      "Epoch 32/50\n",
      "73/73 [==============================] - 1s 9ms/step - loss: 0.0310 - accuracy: 0.9893 - val_loss: 0.2618 - val_accuracy: 0.9499\n",
      "Epoch 33/50\n",
      "73/73 [==============================] - 1s 9ms/step - loss: 0.0391 - accuracy: 0.9906 - val_loss: 0.2959 - val_accuracy: 0.9439\n",
      "Epoch 34/50\n",
      "73/73 [==============================] - 1s 9ms/step - loss: 0.0450 - accuracy: 0.9867 - val_loss: 0.2390 - val_accuracy: 0.9499\n",
      "Epoch 35/50\n",
      "73/73 [==============================] - 1s 9ms/step - loss: 0.0208 - accuracy: 0.9910 - val_loss: 0.2785 - val_accuracy: 0.9520\n",
      "Epoch 36/50\n",
      "73/73 [==============================] - 1s 9ms/step - loss: 0.0227 - accuracy: 0.9927 - val_loss: 0.3214 - val_accuracy: 0.9439\n",
      "Epoch 37/50\n",
      "73/73 [==============================] - 1s 9ms/step - loss: 0.0276 - accuracy: 0.9897 - val_loss: 0.3279 - val_accuracy: 0.9389\n",
      "Epoch 38/50\n",
      "73/73 [==============================] - 1s 9ms/step - loss: 0.0419 - accuracy: 0.9871 - val_loss: 0.3251 - val_accuracy: 0.9409\n",
      "Epoch 39/50\n",
      "73/73 [==============================] - 1s 9ms/step - loss: 0.0293 - accuracy: 0.9901 - val_loss: 0.3344 - val_accuracy: 0.9439\n",
      "Epoch 40/50\n",
      "73/73 [==============================] - 1s 9ms/step - loss: 0.0396 - accuracy: 0.9850 - val_loss: 0.4571 - val_accuracy: 0.9289\n",
      "Epoch 41/50\n",
      "73/73 [==============================] - 1s 9ms/step - loss: 0.0743 - accuracy: 0.9824 - val_loss: 0.3530 - val_accuracy: 0.9489\n",
      "Epoch 42/50\n",
      "73/73 [==============================] - 1s 9ms/step - loss: 0.0601 - accuracy: 0.9850 - val_loss: 0.2924 - val_accuracy: 0.9399\n",
      "Epoch 43/50\n",
      "73/73 [==============================] - 1s 9ms/step - loss: 0.0410 - accuracy: 0.9876 - val_loss: 0.2408 - val_accuracy: 0.9570\n",
      "Epoch 44/50\n",
      "73/73 [==============================] - 1s 9ms/step - loss: 0.0162 - accuracy: 0.9940 - val_loss: 0.2455 - val_accuracy: 0.9660\n",
      "Epoch 45/50\n",
      "73/73 [==============================] - 1s 9ms/step - loss: 0.0125 - accuracy: 0.9953 - val_loss: 0.3313 - val_accuracy: 0.9520\n",
      "Epoch 46/50\n",
      "73/73 [==============================] - 1s 9ms/step - loss: 0.0142 - accuracy: 0.9957 - val_loss: 0.3037 - val_accuracy: 0.9459\n",
      "Epoch 47/50\n",
      "73/73 [==============================] - 1s 9ms/step - loss: 0.0151 - accuracy: 0.9961 - val_loss: 0.2976 - val_accuracy: 0.9520\n",
      "Epoch 48/50\n",
      "73/73 [==============================] - 1s 10ms/step - loss: 0.0091 - accuracy: 0.9974 - val_loss: 0.2508 - val_accuracy: 0.9479\n",
      "Epoch 49/50\n",
      "73/73 [==============================] - 1s 9ms/step - loss: 0.0078 - accuracy: 0.9966 - val_loss: 0.3041 - val_accuracy: 0.9479\n",
      "Epoch 50/50\n",
      "73/73 [==============================] - 1s 9ms/step - loss: 0.0177 - accuracy: 0.9940 - val_loss: 0.3604 - val_accuracy: 0.9349\n"
     ]
    }
   ],
   "source": [
    "# ฝึกโมเดลใหม่\n",
    "history = model.fit(X_train, y_train_encoded, epochs=50, batch_size=32, validation_data=(X_test, y_test_encoded))"
   ]
  },
  {
   "cell_type": "markdown",
   "metadata": {},
   "source": [
    "# ประเมิณ Model"
   ]
  },
  {
   "cell_type": "code",
   "execution_count": 4,
   "metadata": {},
   "outputs": [
    {
     "name": "stdout",
     "output_type": "stream",
     "text": [
      "32/32 [==============================] - 0s 2ms/step\n",
      "              precision    recall  f1-score   support\n",
      "\n",
      "   Classical       0.97      0.97      0.97       193\n",
      "     Country       0.96      0.94      0.95       171\n",
      "      HipHop       0.99      0.86      0.92       159\n",
      "        Jazz       0.85      0.95      0.89       134\n",
      "       Metal       0.94      0.96      0.95       175\n",
      "        Rock       0.89      0.92      0.91       167\n",
      "\n",
      "    accuracy                           0.93       999\n",
      "   macro avg       0.93      0.93      0.93       999\n",
      "weighted avg       0.94      0.93      0.94       999\n",
      "\n"
     ]
    }
   ],
   "source": [
    "from sklearn.metrics import classification_report\n",
    "\n",
    "# ประเมินผลโมเดล\n",
    "y_pred = model.predict(X_test)  # ทำนายผลลัพธ์จากชุดทดสอบ\n",
    "y_pred_classes = np.argmax(y_pred, axis=1)  # แปลงค่าผลลัพธ์เป็นคลาสที่มีค่าสูงสุด\n",
    "y_true = np.argmax(y_test_encoded, axis=1)  # แปลงค่าป้ายกำกับจริงเป็นคลาสที่มีค่าสูงสุด\n",
    "\n",
    "# แสดงผลการประเมินผลลัพธ์ของโมเดล\n",
    "print(classification_report(y_true, y_pred_classes, target_names=label_encoder.classes_))"
   ]
  },
  {
   "cell_type": "code",
   "execution_count": 5,
   "metadata": {},
   "outputs": [
    {
     "name": "stdout",
     "output_type": "stream",
     "text": [
      "Cross-Validation Accuracy Scores: [0.9534534811973572, 0.9324324131011963, 0.9474474191665649, 0.9534534811973572, 0.9459459185600281]\n",
      "Mean CV Accuracy: 0.9465465426445008\n",
      "Standard Deviation of CV Accuracy: 0.007691457350982372\n"
     ]
    }
   ],
   "source": [
    "from sklearn.model_selection import KFold\n",
    "\n",
    "# ฟังก์ชันสำหรับสร้างโมเดล\n",
    "def build_model():\n",
    "    model = Sequential([\n",
    "    Conv1D(32, 3, activation='relu', input_shape=(X_train.shape[1], 1)),\n",
    "    BatchNormalization(),\n",
    "    MaxPooling1D(2),\n",
    "    Conv1D(64, 3, activation='relu'),\n",
    "    BatchNormalization(),\n",
    "    MaxPooling1D(2),\n",
    "    Conv1D(128, 3, activation='relu'),  # เพิ่มจำนวนชั้นซ่อน\n",
    "    BatchNormalization(),\n",
    "    MaxPooling1D(2),\n",
    "    Flatten(),\n",
    "    Dense(256, activation='relu'),  # เพิ่มจำนวนหน่วยในชั้นซ่อน\n",
    "    Dropout(0.5),\n",
    "    Dense(len(label_encoder.classes_), activation='softmax')\n",
    "])\n",
    "    model.compile(optimizer=tf.keras.optimizers.Adam(learning_rate=0.001), loss='categorical_crossentropy', metrics=['accuracy'])\n",
    "    return model\n",
    "\n",
    "# การทำ K-Fold Cross-Validation\n",
    "kf = KFold(n_splits=5, shuffle=True, random_state=42)\n",
    "cv_scores = []\n",
    "\n",
    "for train_index, val_index in kf.split(X):\n",
    "    # แบ่งข้อมูลออกเป็นชุดฝึกและชุดทดสอบสำหรับ Cross-Validation\n",
    "    X_train_cv, X_val_cv = X[train_index], X[val_index]\n",
    "    y_train_cv, y_val_cv = y[train_index], y[val_index]\n",
    "    \n",
    "    # ทำการ Normalize ข้อมูล\n",
    "    X_train_cv = scaler.fit_transform(X_train_cv)\n",
    "    X_val_cv = scaler.transform(X_val_cv)\n",
    "    \n",
    "    # Reshape ข้อมูลเพื่อให้เหมาะสมกับโมเดล\n",
    "    X_train_cv = X_train_cv.reshape(X_train_cv.shape[0], X_train_cv.shape[1], 1)\n",
    "    X_val_cv = X_val_cv.reshape(X_val_cv.shape[0], X_val_cv.shape[1], 1)\n",
    "    \n",
    "    # แปลงป้ายกำกับให้เป็นแบบ one-hot encoding\n",
    "    y_train_cv_encoded = to_categorical(label_encoder.fit_transform(y_train_cv))\n",
    "    y_val_cv_encoded = to_categorical(label_encoder.transform(y_val_cv))\n",
    "    \n",
    "    # สร้างและฝึกโมเดลสำหรับ Cross-Validation\n",
    "    model_cv = build_model()\n",
    "    model_cv.fit(X_train_cv, y_train_cv_encoded, epochs=50, batch_size=32, verbose=0)\n",
    "    \n",
    "    # ประเมินโมเดลด้วยชุดทดสอบ\n",
    "    scores = model_cv.evaluate(X_val_cv, y_val_cv_encoded, verbose=0)\n",
    "    cv_scores.append(scores[1])  # ใช้ค่า accuracy ที่ได้\n",
    "\n",
    "# แสดงผลลัพธ์ของ Cross-Validation\n",
    "print(f'Cross-Validation Accuracy Scores: {cv_scores}')\n",
    "print(f'Mean CV Accuracy: {np.mean(cv_scores)}')\n",
    "print(f'Standard Deviation of CV Accuracy: {np.std(cv_scores)}')\n"
   ]
  },
  {
   "cell_type": "code",
   "execution_count": 6,
   "metadata": {},
   "outputs": [
    {
     "data": {
      "image/png": "[encoded data removed]",
      "text/plain": [
       "<Figure size 1000x700 with 2 Axes>"
      ]
     },
     "metadata": {},
     "output_type": "display_data"
    }
   ],
   "source": [
    "import seaborn as sns\n",
    "import matplotlib.pyplot as plt\n",
    "from sklearn.metrics import confusion_matrix\n",
    "\n",
    "# การสร้าง Confusion Matrix ใหม่\n",
    "conf_matrix = confusion_matrix(y_true, y_pred_classes)\n",
    "\n",
    "# การแสดง Confusion Matrix ใหม่\n",
    "plt.figure(figsize=(10, 7))\n",
    "sns.heatmap(conf_matrix, annot=True, fmt='d', cmap='Blues', xticklabels=label_encoder.classes_, yticklabels=label_encoder.classes_)\n",
    "plt.xlabel('Predicted')\n",
    "plt.ylabel('Actual')\n",
    "plt.title('Confusion Matrix')\n",
    "plt.show()\n"
   ]
  },
  {
   "cell_type": "markdown",
   "metadata": {},
   "source": [
    "# บันทึก Model"
   ]
  },
  {
   "cell_type": "code",
   "execution_count": 7,
   "metadata": {},
   "outputs": [],
   "source": [
    "# บันทึกโมเดล\n",
    "model.save('./Final_Model/Music_6_Genre_Full_Song_CNN_Model.h5')\n",
    "\n",
    "# บันทึก Label Encoder\n",
    "import pickle\n",
    "with open('./Final_Model/Label_Encoder_6_Genre_Full_Song.pkl', 'wb') as file:\n",
    "    pickle.dump(label_encoder, file)\n",
    "\n",
    "# บันทึก Scaler\n",
    "with open('./Final_Model/Scaler_6_Genre_Full_Song.pkl', 'wb') as file:\n",
    "    pickle.dump(scaler, file)"
   ]
  },
  {
   "cell_type": "code",
   "execution_count": 8,
   "metadata": {},
   "outputs": [],
   "source": [
    "# โหลดโมเดลเพื่อตรวจสอบ\n",
    "from tensorflow.keras.models import load_model\n",
    "\n",
    "model = load_model('./Final_Model/Music_6_Genre_Full_Song_CNN_Model.h5')"
   ]
  },
  {
   "cell_type": "code",
   "execution_count": 9,
   "metadata": {},
   "outputs": [],
   "source": [
    "#โหลด Label Encoder เพื่อตรวจสอบ\n",
    "with open('./Final_Model/Label_Encoder_6_Genre_Full_Song.pkl', 'rb') as file:\n",
    "    label_encoder = pickle.load(file)"
   ]
  },
  {
   "cell_type": "code",
   "execution_count": 10,
   "metadata": {},
   "outputs": [],
   "source": [
    "# โหลด Scaler เพื่อตรวจสอบ\n",
    "with open('./Final_Model/Scaler_6_Genre_Full_Song.pkl', 'rb') as file:\n",
    "    scaler = pickle.load(file)"
   ]
  }
 ],
 "metadata": {
  "kernelspec": {
   "display_name": "Project",
   "language": "python",
   "name": "python3"
  },
  "language_info": {
   "codemirror_mode": {
    "name": "ipython",
    "version": 3
   },
   "file_extension": ".py",
   "mimetype": "text/x-python",
   "name": "python",
   "nbconvert_exporter": "python",
   "pygments_lexer": "ipython3",
   "version": "3.9.19"
  }
 },
 "nbformat": 4,
 "nbformat_minor": 2
}
