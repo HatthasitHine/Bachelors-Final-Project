{
 "cells": [
  {
   "cell_type": "code",
   "execution_count": 5,
   "metadata": {},
   "outputs": [],
   "source": [
    "import os\n",
    "from pydub import AudioSegment\n",
    "import numpy as np"
   ]
  },
  {
   "cell_type": "code",
   "execution_count": 6,
   "metadata": {},
   "outputs": [],
   "source": [
    "# ฟังก์ชันเพื่อเช็คว่าเสียงเงียบเกิน 1 วินาทีหรือไม่\n",
    "def is_silent(audio_segment, duration=1000, threshold=-50.0):\n",
    "    # ตรวจสอบช่วง 1 วินาทีแรก\n",
    "    start_segment = audio_segment[:duration]\n",
    "    start_db = start_segment.dBFS\n",
    "    if start_db < threshold:\n",
    "        return True\n",
    "    \n",
    "    # ตรวจสอบช่วง 1 วินาทีสุดท้าย\n",
    "    end_segment = audio_segment[-duration:]\n",
    "    end_db = end_segment.dBFS\n",
    "    if end_db < threshold:\n",
    "        return True\n",
    "\n",
    "    return False"
   ]
  },
  {
   "cell_type": "code",
   "execution_count": 7,
   "metadata": {},
   "outputs": [],
   "source": [
    "# ฟังก์ชันเดินทางไปยังทุกไฟล์และโฟลเดอร์ เพื่อลบไฟล์ที่มีเสียงเงียบ\n",
    "def check_and_delete_silent_files(directory):\n",
    "    for root, dirs, files in os.walk(directory):\n",
    "        for file in files:\n",
    "            if file.endswith(\".wav\"):\n",
    "                file_path = os.path.join(root, file)\n",
    "                audio = AudioSegment.from_wav(file_path)\n",
    "                \n",
    "                # ถ้าเสียงเงียบในช่วง 1 วินาทีแรกหรือ 1 วินาทีสุดท้าย\n",
    "                if is_silent(audio):\n",
    "                    os.remove(file_path)  # ลบไฟล์ที่มีเสียงเงียบ\n",
    "                    print(f\"Deleted file with silence: {file_path}\")"
   ]
  },
  {
   "cell_type": "code",
   "execution_count": 8,
   "metadata": {},
   "outputs": [
    {
     "name": "stdout",
     "output_type": "stream",
     "text": [
      "Deleted file with silence: ../DataSet/Data_แค่ที่จำเป็น/All_Thai/เพลงเพิ่มเติม/pop-20240911T061703Z-001/pop\\STAMP _ มันคงเป็นความรัก ost. 30 กำลังแจ๋ว [Official Audio]_segment_1.wav\n",
      "Deleted file with silence: ../DataSet/Data_แค่ที่จำเป็น/All_Thai/เพลงเพิ่มเติม/pop-20240911T061703Z-001/pop\\STAMP _ ให้ตายสิพับผ่า [Official MV]_segment_1.wav\n",
      "Deleted file with silence: ../DataSet/Data_แค่ที่จำเป็น/All_Thai/เพลงเพิ่มเติม/pop-20240911T061703Z-001/pop\\เนื้อเพลง _ คุกกี้เสี่ยงทาย Koisuru Fortune Cookie - BNK48_segment_1.wav\n",
      "Deleted file with silence: ../DataSet/Data_แค่ที่จำเป็น/All_Thai/เพลงเพิ่มเติม/pop-20240911T061703Z-001/pop\\เฮอร์ไมโอน้อง (Hermionong) MV Eng sub - อูน TheChanisara_segment_1.wav\n"
     ]
    }
   ],
   "source": [
    "# ระบุไดเรกทอรี\n",
    "directory_to_check = \"../you_directory\"\n",
    "check_and_delete_silent_files(directory_to_check)"
   ]
  },
  {
   "cell_type": "code",
   "execution_count": null,
   "metadata": {},
   "outputs": [],
   "source": []
  },
  {
   "cell_type": "code",
   "execution_count": null,
   "metadata": {},
   "outputs": [],
   "source": []
  }
 ],
 "metadata": {
  "kernelspec": {
   "display_name": "Project",
   "language": "python",
   "name": "python3"
  },
  "language_info": {
   "codemirror_mode": {
    "name": "ipython",
    "version": 3
   },
   "file_extension": ".py",
   "mimetype": "text/x-python",
   "name": "python",
   "nbconvert_exporter": "python",
   "pygments_lexer": "ipython3",
   "version": "3.6.15"
  }
 },
 "nbformat": 4,
 "nbformat_minor": 2
}
