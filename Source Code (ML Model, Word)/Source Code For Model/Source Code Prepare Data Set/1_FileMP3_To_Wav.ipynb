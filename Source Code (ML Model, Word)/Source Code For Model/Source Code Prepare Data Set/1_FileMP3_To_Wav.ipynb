{
 "cells": [
  {
   "cell_type": "code",
   "execution_count": 45,
   "metadata": {},
   "outputs": [],
   "source": [
    "import os\n",
    "import subprocess"
   ]
  },
  {
   "cell_type": "code",
   "execution_count": 46,
   "metadata": {},
   "outputs": [],
   "source": [
    "# กำหนดโฟลเดอร์ที่มีไฟล์เพลง\n",
    "root_directory = '../you_directory'"
   ]
  },
  {
   "cell_type": "code",
   "execution_count": 47,
   "metadata": {},
   "outputs": [
    {
     "name": "stdout",
     "output_type": "stream",
     "text": [
      "Converted: ../DataSet/Data_แค่ที่จำเป็น/All_Thai/เพลงสำหรับเปรียบเทียบ/แรป\\Zombie Movie _ ซอมบี้มูฟวี่ - TangBadVoice [Official Music Video].mp3 to ../DataSet/Data_แค่ที่จำเป็น/All_Thai/เพลงสำหรับเปรียบเทียบ/แรป\\Zombie Movie _ ซอมบี้มูฟวี่ - TangBadVoice [Official Music Video].wav\n"
     ]
    }
   ],
   "source": [
    "# วนลูปผ่านทุกไฟล์ในทุกโฟลเดอร์\n",
    "for root, dirs, files in os.walk(root_directory):\n",
    "    for file in files:\n",
    "        if file.endswith('.mp3'):\n",
    "            original_file_path = os.path.join(root, file)\n",
    "            new_file_path = original_file_path[:-4] + '.wav'  # เปลี่ยนนามสกุลไฟล์\n",
    "\n",
    "            # ตรวจสอบว่าไฟล์ .wav มีอยู่แล้วหรือไม่\n",
    "            if not os.path.exists(new_file_path):\n",
    "                # ใช้ ffmpeg เพื่อแปลงไฟล์\n",
    "                command = f'ffmpeg -i \"{original_file_path}\" -acodec pcm_s16le -ar 44100 \"{new_file_path}\"'\n",
    "                subprocess.run(command, shell=True)\n",
    "                print(f'Converted: {original_file_path} to {new_file_path}')\n",
    "            else:\n",
    "                print(f'File already exists: {new_file_path}')"
   ]
  },
  {
   "cell_type": "code",
   "execution_count": 48,
   "metadata": {},
   "outputs": [
    {
     "name": "stdout",
     "output_type": "stream",
     "text": [
      "Removed: Zombie Movie _ ซอมบี้มูฟวี่ - TangBadVoice [Official Music Video].mp3\n"
     ]
    }
   ],
   "source": [
    "import os\n",
    "\n",
    "def remove_all_mp3_files(directory):\n",
    "    # วนลูปผ่านทุกไฟล์ในโฟลเดอร์\n",
    "    for filename in os.listdir(directory):\n",
    "        # ตรวจสอบว่าไฟล์นั้นเป็นไฟล์ .mp3 หรือไม่\n",
    "        if filename.lower().endswith('.mp3'):\n",
    "            # ลบไฟล์ .mp3\n",
    "            os.remove(os.path.join(directory, filename))\n",
    "            print(f'Removed: {filename}')\n",
    "\n",
    "# กำหนดโฟลเดอร์ที่ต้องการลบไฟล์\n",
    "folder_path = '../you_path'\n",
    "\n",
    "remove_all_mp3_files(folder_path)\n"
   ]
  }
 ],
 "metadata": {
  "kernelspec": {
   "display_name": "Project",
   "language": "python",
   "name": "python3"
  },
  "language_info": {
   "codemirror_mode": {
    "name": "ipython",
    "version": 3
   },
   "file_extension": ".py",
   "mimetype": "text/x-python",
   "name": "python",
   "nbconvert_exporter": "python",
   "pygments_lexer": "ipython3",
   "version": "3.6.15"
  }
 },
 "nbformat": 4,
 "nbformat_minor": 2
}
