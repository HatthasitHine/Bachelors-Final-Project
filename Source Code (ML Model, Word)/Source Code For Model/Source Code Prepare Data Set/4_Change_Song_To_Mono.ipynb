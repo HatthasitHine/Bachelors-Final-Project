{
 "cells": [
  {
   "cell_type": "code",
   "execution_count": 1,
   "metadata": {},
   "outputs": [],
   "source": [
    "import os\n",
    "import subprocess\n",
    "import wave"
   ]
  },
  {
   "cell_type": "code",
   "execution_count": 2,
   "metadata": {},
   "outputs": [],
   "source": [
    "def convert_stereo_to_mono(directory):\n",
    "    for filename in os.listdir(directory):\n",
    "        if filename.endswith(\".wav\"):\n",
    "            file_path = os.path.join(directory, filename)\n",
    "            temp_file_path = os.path.join(directory, \"temp_\" + filename)\n",
    "\n",
    "            # ใช้ ffmpeg เพื่อแปลงไฟล์จาก stereo เป็น mono\n",
    "            command = [\"ffmpeg\", \"-i\", file_path, \"-ac\", \"1\", temp_file_path] #เปลี่ยน 1 เป็น 2 คือกลับเป็น stereo\n",
    "            subprocess.run(command, check=True)\n",
    "\n",
    "            # แทนที่ไฟล์เดิมด้วยไฟล์ที่แปลงแล้ว\n",
    "            os.remove(file_path)\n",
    "            os.rename(temp_file_path, file_path)\n",
    "\n",
    "            print(f\"Converted {filename} to mono.\")"
   ]
  },
  {
   "cell_type": "code",
   "execution_count": 3,
   "metadata": {},
   "outputs": [],
   "source": [
    "def check_mono_conversion(directory):\n",
    "    all_converted = True\n",
    "    for filename in os.listdir(directory):\n",
    "        if filename.endswith(\".wav\"):\n",
    "            file_path = os.path.join(directory, filename)\n",
    "            with wave.open(file_path, 'r') as wav_file:\n",
    "                channels = wav_file.getnchannels()\n",
    "                if channels != 1: #เปลี่ยน 1 เป็น 2 คือกลับเป็น stereo\n",
    "                    print(f\"File {filename} has {channels} channels. Conversion failed.\")\n",
    "                    all_converted = False\n",
    "                else:\n",
    "                    print(f\"File {filename} is mono.\")\n",
    "    if all_converted:\n",
    "        print(\"All files have been successfully converted to mono.\")\n",
    "    else:\n",
    "        print(\"Some files were not converted successfully.\")"
   ]
  },
  {
   "cell_type": "code",
   "execution_count": 4,
   "metadata": {},
   "outputs": [
    {
     "name": "stdout",
     "output_type": "stream",
     "text": [
      "Converted accompaniment.wav to mono.\n",
      "Converted vocals.wav to mono.\n",
      "File accompaniment.wav is mono.\n",
      "File vocals.wav is mono.\n",
      "All files have been successfully converted to mono.\n"
     ]
    }
   ],
   "source": [
    "# ใช้งานฟังก์ชัน\n",
    "directory = \"../you_directory\"  # เปลี่ยนเป็นพาธที่ต้องการ\n",
    "convert_stereo_to_mono(directory)\n",
    "check_mono_conversion(directory)"
   ]
  }
 ],
 "metadata": {
  "kernelspec": {
   "display_name": "Project",
   "language": "python",
   "name": "python3"
  },
  "language_info": {
   "codemirror_mode": {
    "name": "ipython",
    "version": 3
   },
   "file_extension": ".py",
   "mimetype": "text/x-python",
   "name": "python",
   "nbconvert_exporter": "python",
   "pygments_lexer": "ipython3",
   "version": "3.6.15"
  }
 },
 "nbformat": 4,
 "nbformat_minor": 2
}
