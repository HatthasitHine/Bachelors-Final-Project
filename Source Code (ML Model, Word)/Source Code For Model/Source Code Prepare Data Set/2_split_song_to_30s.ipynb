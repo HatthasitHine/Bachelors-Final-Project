{
 "cells": [
  {
   "cell_type": "markdown",
   "metadata": {},
   "source": [
    "    #Code ตัดแยกเพลงออกมาเป็นส่วนละ 30s จำนวน 4 ส่วนต่อเพลง"
   ]
  },
  {
   "cell_type": "code",
   "execution_count": 5,
   "metadata": {},
   "outputs": [],
   "source": [
    "import os\n",
    "from pydub import AudioSegment"
   ]
  },
  {
   "cell_type": "code",
   "execution_count": 6,
   "metadata": {},
   "outputs": [],
   "source": [
    "def split_and_remove_original(file_path, segment_length_ms, output_format, max_segments):\n",
    "    # โหลดไฟล์เสียง\n",
    "    audio = AudioSegment.from_file(file_path)\n",
    "\n",
    "    # คำนวณจำนวนไฟล์ที่จะได้รับจากการตัด\n",
    "    num_segments = min(len(audio) // segment_length_ms, max_segments)\n",
    "\n",
    "    # ตัดและบันทึกแต่ละส่วน\n",
    "    for i in range(num_segments):\n",
    "        start_ms = i * segment_length_ms\n",
    "        end_ms = start_ms + segment_length_ms\n",
    "        segment = audio[start_ms:end_ms]\n",
    "\n",
    "        # สร้างชื่อไฟล์สำหรับแต่ละส่วน\n",
    "        segment_file_name = f\"{file_path[:-4]}_segment_{i+1}.{output_format}\"\n",
    "\n",
    "        # บันทึกส่วนของไฟล์เสียง\n",
    "        segment.export(segment_file_name, format=output_format)\n",
    "        print(f\"Exported {segment_file_name}\")\n",
    "\n",
    "    # ลบไฟล์เสียงต้นฉบับ\n",
    "    os.remove(file_path)\n",
    "    print(f\"Original file {file_path} has been removed.\")\n"
   ]
  },
  {
   "cell_type": "code",
   "execution_count": 7,
   "metadata": {},
   "outputs": [],
   "source": [
    "# กำหนดโฟล์เดอร์และพารามิเตอร์\n",
    "folder_path = '../you_path'\n",
    "segment_length_ms = 30 * 1000  # 30 วินาทีเป็นมิลลิวินาที\n",
    "output_format = 'wav'  # หรือ 'mp3'\n",
    "max_segments = 20  # สร้างไฟล์ตัดแยกได้สูงสุด 4 ไฟล์ต่อไฟล์ต้นฉบับ"
   ]
  },
  {
   "cell_type": "code",
   "execution_count": 8,
   "metadata": {},
   "outputs": [
    {
     "name": "stdout",
     "output_type": "stream",
     "text": [
      "Exported ../DataSet/Data_แค่ที่จำเป็น/All_Thai/เพลงเพิ่มเติม/pop-20240911T061703Z-001/pop\\Bedroom Audio - ไม่บอกเธอ Ost.Hormones (Official Audio)_segment_1.wav\n",
      "Exported ../DataSet/Data_แค่ที่จำเป็น/All_Thai/เพลงเพิ่มเติม/pop-20240911T061703Z-001/pop\\Bedroom Audio - ไม่บอกเธอ Ost.Hormones (Official Audio)_segment_2.wav\n",
      "Exported ../DataSet/Data_แค่ที่จำเป็น/All_Thai/เพลงเพิ่มเติม/pop-20240911T061703Z-001/pop\\Bedroom Audio - ไม่บอกเธอ Ost.Hormones (Official Audio)_segment_3.wav\n",
      "Exported ../DataSet/Data_แค่ที่จำเป็น/All_Thai/เพลงเพิ่มเติม/pop-20240911T061703Z-001/pop\\Bedroom Audio - ไม่บอกเธอ Ost.Hormones (Official Audio)_segment_4.wav\n",
      "Exported ../DataSet/Data_แค่ที่จำเป็น/All_Thai/เพลงเพิ่มเติม/pop-20240911T061703Z-001/pop\\Bedroom Audio - ไม่บอกเธอ Ost.Hormones (Official Audio)_segment_5.wav\n",
      "Exported ../DataSet/Data_แค่ที่จำเป็น/All_Thai/เพลงเพิ่มเติม/pop-20240911T061703Z-001/pop\\Bedroom Audio - ไม่บอกเธอ Ost.Hormones (Official Audio)_segment_6.wav\n",
      "Exported ../DataSet/Data_แค่ที่จำเป็น/All_Thai/เพลงเพิ่มเติม/pop-20240911T061703Z-001/pop\\Bedroom Audio - ไม่บอกเธอ Ost.Hormones (Official Audio)_segment_7.wav\n",
      "Exported ../DataSet/Data_แค่ที่จำเป็น/All_Thai/เพลงเพิ่มเติม/pop-20240911T061703Z-001/pop\\Bedroom Audio - ไม่บอกเธอ Ost.Hormones (Official Audio)_segment_8.wav\n",
      "Exported ../DataSet/Data_แค่ที่จำเป็น/All_Thai/เพลงเพิ่มเติม/pop-20240911T061703Z-001/pop\\Bedroom Audio - ไม่บอกเธอ Ost.Hormones (Official Audio)_segment_9.wav\n",
      "Exported ../DataSet/Data_แค่ที่จำเป็น/All_Thai/เพลงเพิ่มเติม/pop-20240911T061703Z-001/pop\\Bedroom Audio - ไม่บอกเธอ Ost.Hormones (Official Audio)_segment_10.wav\n",
      "Original file ../DataSet/Data_แค่ที่จำเป็น/All_Thai/เพลงเพิ่มเติม/pop-20240911T061703Z-001/pop\\Bedroom Audio - ไม่บอกเธอ Ost.Hormones (Official Audio).wav has been removed.\n",
      "Exported ../DataSet/Data_แค่ที่จำเป็น/All_Thai/เพลงเพิ่มเติม/pop-20240911T061703Z-001/pop\\NONT TANONT - โต๊ะริม_segment_1.wav\n",
      "Exported ../DataSet/Data_แค่ที่จำเป็น/All_Thai/เพลงเพิ่มเติม/pop-20240911T061703Z-001/pop\\NONT TANONT - โต๊ะริม_segment_2.wav\n",
      "Exported ../DataSet/Data_แค่ที่จำเป็น/All_Thai/เพลงเพิ่มเติม/pop-20240911T061703Z-001/pop\\NONT TANONT - โต๊ะริม_segment_3.wav\n",
      "Exported ../DataSet/Data_แค่ที่จำเป็น/All_Thai/เพลงเพิ่มเติม/pop-20240911T061703Z-001/pop\\NONT TANONT - โต๊ะริม_segment_4.wav\n",
      "Exported ../DataSet/Data_แค่ที่จำเป็น/All_Thai/เพลงเพิ่มเติม/pop-20240911T061703Z-001/pop\\NONT TANONT - โต๊ะริม_segment_5.wav\n",
      "Exported ../DataSet/Data_แค่ที่จำเป็น/All_Thai/เพลงเพิ่มเติม/pop-20240911T061703Z-001/pop\\NONT TANONT - โต๊ะริม_segment_6.wav\n",
      "Exported ../DataSet/Data_แค่ที่จำเป็น/All_Thai/เพลงเพิ่มเติม/pop-20240911T061703Z-001/pop\\NONT TANONT - โต๊ะริม_segment_7.wav\n",
      "Original file ../DataSet/Data_แค่ที่จำเป็น/All_Thai/เพลงเพิ่มเติม/pop-20240911T061703Z-001/pop\\NONT TANONT - โต๊ะริม.wav has been removed.\n",
      "Exported ../DataSet/Data_แค่ที่จำเป็น/All_Thai/เพลงเพิ่มเติม/pop-20240911T061703Z-001/pop\\STAMP _ มันคงเป็นความรัก ost. 30 กำลังแจ๋ว [Official Audio]_segment_1.wav\n",
      "Exported ../DataSet/Data_แค่ที่จำเป็น/All_Thai/เพลงเพิ่มเติม/pop-20240911T061703Z-001/pop\\STAMP _ มันคงเป็นความรัก ost. 30 กำลังแจ๋ว [Official Audio]_segment_2.wav\n",
      "Exported ../DataSet/Data_แค่ที่จำเป็น/All_Thai/เพลงเพิ่มเติม/pop-20240911T061703Z-001/pop\\STAMP _ มันคงเป็นความรัก ost. 30 กำลังแจ๋ว [Official Audio]_segment_3.wav\n",
      "Exported ../DataSet/Data_แค่ที่จำเป็น/All_Thai/เพลงเพิ่มเติม/pop-20240911T061703Z-001/pop\\STAMP _ มันคงเป็นความรัก ost. 30 กำลังแจ๋ว [Official Audio]_segment_4.wav\n",
      "Exported ../DataSet/Data_แค่ที่จำเป็น/All_Thai/เพลงเพิ่มเติม/pop-20240911T061703Z-001/pop\\STAMP _ มันคงเป็นความรัก ost. 30 กำลังแจ๋ว [Official Audio]_segment_5.wav\n",
      "Exported ../DataSet/Data_แค่ที่จำเป็น/All_Thai/เพลงเพิ่มเติม/pop-20240911T061703Z-001/pop\\STAMP _ มันคงเป็นความรัก ost. 30 กำลังแจ๋ว [Official Audio]_segment_6.wav\n",
      "Exported ../DataSet/Data_แค่ที่จำเป็น/All_Thai/เพลงเพิ่มเติม/pop-20240911T061703Z-001/pop\\STAMP _ มันคงเป็นความรัก ost. 30 กำลังแจ๋ว [Official Audio]_segment_7.wav\n",
      "Original file ../DataSet/Data_แค่ที่จำเป็น/All_Thai/เพลงเพิ่มเติม/pop-20240911T061703Z-001/pop\\STAMP _ มันคงเป็นความรัก ost. 30 กำลังแจ๋ว [Official Audio].wav has been removed.\n",
      "Exported ../DataSet/Data_แค่ที่จำเป็น/All_Thai/เพลงเพิ่มเติม/pop-20240911T061703Z-001/pop\\STAMP _ ให้ตายสิพับผ่า [Official MV]_segment_1.wav\n",
      "Exported ../DataSet/Data_แค่ที่จำเป็น/All_Thai/เพลงเพิ่มเติม/pop-20240911T061703Z-001/pop\\STAMP _ ให้ตายสิพับผ่า [Official MV]_segment_2.wav\n",
      "Exported ../DataSet/Data_แค่ที่จำเป็น/All_Thai/เพลงเพิ่มเติม/pop-20240911T061703Z-001/pop\\STAMP _ ให้ตายสิพับผ่า [Official MV]_segment_3.wav\n",
      "Exported ../DataSet/Data_แค่ที่จำเป็น/All_Thai/เพลงเพิ่มเติม/pop-20240911T061703Z-001/pop\\STAMP _ ให้ตายสิพับผ่า [Official MV]_segment_4.wav\n",
      "Exported ../DataSet/Data_แค่ที่จำเป็น/All_Thai/เพลงเพิ่มเติม/pop-20240911T061703Z-001/pop\\STAMP _ ให้ตายสิพับผ่า [Official MV]_segment_5.wav\n",
      "Exported ../DataSet/Data_แค่ที่จำเป็น/All_Thai/เพลงเพิ่มเติม/pop-20240911T061703Z-001/pop\\STAMP _ ให้ตายสิพับผ่า [Official MV]_segment_6.wav\n",
      "Original file ../DataSet/Data_แค่ที่จำเป็น/All_Thai/เพลงเพิ่มเติม/pop-20240911T061703Z-001/pop\\STAMP _ ให้ตายสิพับผ่า [Official MV].wav has been removed.\n",
      "Exported ../DataSet/Data_แค่ที่จำเป็น/All_Thai/เพลงเพิ่มเติม/pop-20240911T061703Z-001/pop\\URBOYTJ - เป็นได้ทุกอย่าง (EVERYTHING)_segment_1.wav\n",
      "Exported ../DataSet/Data_แค่ที่จำเป็น/All_Thai/เพลงเพิ่มเติม/pop-20240911T061703Z-001/pop\\URBOYTJ - เป็นได้ทุกอย่าง (EVERYTHING)_segment_2.wav\n",
      "Exported ../DataSet/Data_แค่ที่จำเป็น/All_Thai/เพลงเพิ่มเติม/pop-20240911T061703Z-001/pop\\URBOYTJ - เป็นได้ทุกอย่าง (EVERYTHING)_segment_3.wav\n",
      "Exported ../DataSet/Data_แค่ที่จำเป็น/All_Thai/เพลงเพิ่มเติม/pop-20240911T061703Z-001/pop\\URBOYTJ - เป็นได้ทุกอย่าง (EVERYTHING)_segment_4.wav\n",
      "Exported ../DataSet/Data_แค่ที่จำเป็น/All_Thai/เพลงเพิ่มเติม/pop-20240911T061703Z-001/pop\\URBOYTJ - เป็นได้ทุกอย่าง (EVERYTHING)_segment_5.wav\n",
      "Exported ../DataSet/Data_แค่ที่จำเป็น/All_Thai/เพลงเพิ่มเติม/pop-20240911T061703Z-001/pop\\URBOYTJ - เป็นได้ทุกอย่าง (EVERYTHING)_segment_6.wav\n",
      "Original file ../DataSet/Data_แค่ที่จำเป็น/All_Thai/เพลงเพิ่มเติม/pop-20240911T061703Z-001/pop\\URBOYTJ - เป็นได้ทุกอย่าง (EVERYTHING).wav has been removed.\n",
      "Exported ../DataSet/Data_แค่ที่จำเป็น/All_Thai/เพลงเพิ่มเติม/pop-20240911T061703Z-001/pop\\ยินดีที่ไม่รู้จัก (official MV)_segment_1.wav\n",
      "Exported ../DataSet/Data_แค่ที่จำเป็น/All_Thai/เพลงเพิ่มเติม/pop-20240911T061703Z-001/pop\\ยินดีที่ไม่รู้จัก (official MV)_segment_2.wav\n",
      "Exported ../DataSet/Data_แค่ที่จำเป็น/All_Thai/เพลงเพิ่มเติม/pop-20240911T061703Z-001/pop\\ยินดีที่ไม่รู้จัก (official MV)_segment_3.wav\n",
      "Exported ../DataSet/Data_แค่ที่จำเป็น/All_Thai/เพลงเพิ่มเติม/pop-20240911T061703Z-001/pop\\ยินดีที่ไม่รู้จัก (official MV)_segment_4.wav\n",
      "Exported ../DataSet/Data_แค่ที่จำเป็น/All_Thai/เพลงเพิ่มเติม/pop-20240911T061703Z-001/pop\\ยินดีที่ไม่รู้จัก (official MV)_segment_5.wav\n",
      "Exported ../DataSet/Data_แค่ที่จำเป็น/All_Thai/เพลงเพิ่มเติม/pop-20240911T061703Z-001/pop\\ยินดีที่ไม่รู้จัก (official MV)_segment_6.wav\n",
      "Exported ../DataSet/Data_แค่ที่จำเป็น/All_Thai/เพลงเพิ่มเติม/pop-20240911T061703Z-001/pop\\ยินดีที่ไม่รู้จัก (official MV)_segment_7.wav\n",
      "Original file ../DataSet/Data_แค่ที่จำเป็น/All_Thai/เพลงเพิ่มเติม/pop-20240911T061703Z-001/pop\\ยินดีที่ไม่รู้จัก (official MV).wav has been removed.\n",
      "Exported ../DataSet/Data_แค่ที่จำเป็น/All_Thai/เพลงเพิ่มเติม/pop-20240911T061703Z-001/pop\\รถของเล่น_Toycar _ เสือโคร่ง_ Tiger_segment_1.wav\n",
      "Exported ../DataSet/Data_แค่ที่จำเป็น/All_Thai/เพลงเพิ่มเติม/pop-20240911T061703Z-001/pop\\รถของเล่น_Toycar _ เสือโคร่ง_ Tiger_segment_2.wav\n",
      "Exported ../DataSet/Data_แค่ที่จำเป็น/All_Thai/เพลงเพิ่มเติม/pop-20240911T061703Z-001/pop\\รถของเล่น_Toycar _ เสือโคร่ง_ Tiger_segment_3.wav\n",
      "Exported ../DataSet/Data_แค่ที่จำเป็น/All_Thai/เพลงเพิ่มเติม/pop-20240911T061703Z-001/pop\\รถของเล่น_Toycar _ เสือโคร่ง_ Tiger_segment_4.wav\n",
      "Exported ../DataSet/Data_แค่ที่จำเป็น/All_Thai/เพลงเพิ่มเติม/pop-20240911T061703Z-001/pop\\รถของเล่น_Toycar _ เสือโคร่ง_ Tiger_segment_5.wav\n",
      "Exported ../DataSet/Data_แค่ที่จำเป็น/All_Thai/เพลงเพิ่มเติม/pop-20240911T061703Z-001/pop\\รถของเล่น_Toycar _ เสือโคร่ง_ Tiger_segment_6.wav\n",
      "Exported ../DataSet/Data_แค่ที่จำเป็น/All_Thai/เพลงเพิ่มเติม/pop-20240911T061703Z-001/pop\\รถของเล่น_Toycar _ เสือโคร่ง_ Tiger_segment_7.wav\n",
      "Original file ../DataSet/Data_แค่ที่จำเป็น/All_Thai/เพลงเพิ่มเติม/pop-20240911T061703Z-001/pop\\รถของเล่น_Toycar _ เสือโคร่ง_ Tiger.wav has been removed.\n",
      "Exported ../DataSet/Data_แค่ที่จำเป็น/All_Thai/เพลงเพิ่มเติม/pop-20240911T061703Z-001/pop\\เกินปุยมุ้ย!_segment_1.wav\n",
      "Exported ../DataSet/Data_แค่ที่จำเป็น/All_Thai/เพลงเพิ่มเติม/pop-20240911T061703Z-001/pop\\เกินปุยมุ้ย!_segment_2.wav\n",
      "Exported ../DataSet/Data_แค่ที่จำเป็น/All_Thai/เพลงเพิ่มเติม/pop-20240911T061703Z-001/pop\\เกินปุยมุ้ย!_segment_3.wav\n",
      "Exported ../DataSet/Data_แค่ที่จำเป็น/All_Thai/เพลงเพิ่มเติม/pop-20240911T061703Z-001/pop\\เกินปุยมุ้ย!_segment_4.wav\n",
      "Exported ../DataSet/Data_แค่ที่จำเป็น/All_Thai/เพลงเพิ่มเติม/pop-20240911T061703Z-001/pop\\เกินปุยมุ้ย!_segment_5.wav\n",
      "Exported ../DataSet/Data_แค่ที่จำเป็น/All_Thai/เพลงเพิ่มเติม/pop-20240911T061703Z-001/pop\\เกินปุยมุ้ย!_segment_6.wav\n",
      "Original file ../DataSet/Data_แค่ที่จำเป็น/All_Thai/เพลงเพิ่มเติม/pop-20240911T061703Z-001/pop\\เกินปุยมุ้ย!.wav has been removed.\n",
      "Exported ../DataSet/Data_แค่ที่จำเป็น/All_Thai/เพลงเพิ่มเติม/pop-20240911T061703Z-001/pop\\เนื้อเพลง _ คุกกี้เสี่ยงทาย Koisuru Fortune Cookie - BNK48_segment_1.wav\n",
      "Exported ../DataSet/Data_แค่ที่จำเป็น/All_Thai/เพลงเพิ่มเติม/pop-20240911T061703Z-001/pop\\เนื้อเพลง _ คุกกี้เสี่ยงทาย Koisuru Fortune Cookie - BNK48_segment_2.wav\n",
      "Exported ../DataSet/Data_แค่ที่จำเป็น/All_Thai/เพลงเพิ่มเติม/pop-20240911T061703Z-001/pop\\เนื้อเพลง _ คุกกี้เสี่ยงทาย Koisuru Fortune Cookie - BNK48_segment_3.wav\n",
      "Exported ../DataSet/Data_แค่ที่จำเป็น/All_Thai/เพลงเพิ่มเติม/pop-20240911T061703Z-001/pop\\เนื้อเพลง _ คุกกี้เสี่ยงทาย Koisuru Fortune Cookie - BNK48_segment_4.wav\n",
      "Exported ../DataSet/Data_แค่ที่จำเป็น/All_Thai/เพลงเพิ่มเติม/pop-20240911T061703Z-001/pop\\เนื้อเพลง _ คุกกี้เสี่ยงทาย Koisuru Fortune Cookie - BNK48_segment_5.wav\n",
      "Exported ../DataSet/Data_แค่ที่จำเป็น/All_Thai/เพลงเพิ่มเติม/pop-20240911T061703Z-001/pop\\เนื้อเพลง _ คุกกี้เสี่ยงทาย Koisuru Fortune Cookie - BNK48_segment_6.wav\n",
      "Exported ../DataSet/Data_แค่ที่จำเป็น/All_Thai/เพลงเพิ่มเติม/pop-20240911T061703Z-001/pop\\เนื้อเพลง _ คุกกี้เสี่ยงทาย Koisuru Fortune Cookie - BNK48_segment_7.wav\n",
      "Exported ../DataSet/Data_แค่ที่จำเป็น/All_Thai/เพลงเพิ่มเติม/pop-20240911T061703Z-001/pop\\เนื้อเพลง _ คุกกี้เสี่ยงทาย Koisuru Fortune Cookie - BNK48_segment_8.wav\n",
      "Exported ../DataSet/Data_แค่ที่จำเป็น/All_Thai/เพลงเพิ่มเติม/pop-20240911T061703Z-001/pop\\เนื้อเพลง _ คุกกี้เสี่ยงทาย Koisuru Fortune Cookie - BNK48_segment_9.wav\n",
      "Original file ../DataSet/Data_แค่ที่จำเป็น/All_Thai/เพลงเพิ่มเติม/pop-20240911T061703Z-001/pop\\เนื้อเพลง _ คุกกี้เสี่ยงทาย Koisuru Fortune Cookie - BNK48.wav has been removed.\n",
      "Exported ../DataSet/Data_แค่ที่จำเป็น/All_Thai/เพลงเพิ่มเติม/pop-20240911T061703Z-001/pop\\เฮอร์ไมโอน้อง (Hermionong) MV Eng sub - อูน TheChanisara_segment_1.wav\n",
      "Exported ../DataSet/Data_แค่ที่จำเป็น/All_Thai/เพลงเพิ่มเติม/pop-20240911T061703Z-001/pop\\เฮอร์ไมโอน้อง (Hermionong) MV Eng sub - อูน TheChanisara_segment_2.wav\n",
      "Exported ../DataSet/Data_แค่ที่จำเป็น/All_Thai/เพลงเพิ่มเติม/pop-20240911T061703Z-001/pop\\เฮอร์ไมโอน้อง (Hermionong) MV Eng sub - อูน TheChanisara_segment_3.wav\n",
      "Exported ../DataSet/Data_แค่ที่จำเป็น/All_Thai/เพลงเพิ่มเติม/pop-20240911T061703Z-001/pop\\เฮอร์ไมโอน้อง (Hermionong) MV Eng sub - อูน TheChanisara_segment_4.wav\n",
      "Exported ../DataSet/Data_แค่ที่จำเป็น/All_Thai/เพลงเพิ่มเติม/pop-20240911T061703Z-001/pop\\เฮอร์ไมโอน้อง (Hermionong) MV Eng sub - อูน TheChanisara_segment_5.wav\n",
      "Exported ../DataSet/Data_แค่ที่จำเป็น/All_Thai/เพลงเพิ่มเติม/pop-20240911T061703Z-001/pop\\เฮอร์ไมโอน้อง (Hermionong) MV Eng sub - อูน TheChanisara_segment_6.wav\n",
      "Exported ../DataSet/Data_แค่ที่จำเป็น/All_Thai/เพลงเพิ่มเติม/pop-20240911T061703Z-001/pop\\เฮอร์ไมโอน้อง (Hermionong) MV Eng sub - อูน TheChanisara_segment_7.wav\n",
      "Original file ../DataSet/Data_แค่ที่จำเป็น/All_Thai/เพลงเพิ่มเติม/pop-20240911T061703Z-001/pop\\เฮอร์ไมโอน้อง (Hermionong) MV Eng sub - อูน TheChanisara.wav has been removed.\n"
     ]
    }
   ],
   "source": [
    "# วนลูปผ่านไฟล์ในโฟล์เดอร์\n",
    "for file in os.listdir(folder_path):\n",
    "    file_path = os.path.join(folder_path, file)\n",
    "    if file.endswith('.mp3') or file.endswith('.wav'):\n",
    "        split_and_remove_original(file_path, segment_length_ms, output_format, max_segments)"
   ]
  }
 ],
 "metadata": {
  "kernelspec": {
   "display_name": "Project",
   "language": "python",
   "name": "python3"
  },
  "language_info": {
   "codemirror_mode": {
    "name": "ipython",
    "version": 3
   },
   "file_extension": ".py",
   "mimetype": "text/x-python",
   "name": "python",
   "nbconvert_exporter": "python",
   "pygments_lexer": "ipython3",
   "version": "3.6.15"
  }
 },
 "nbformat": 4,
 "nbformat_minor": 2
}
